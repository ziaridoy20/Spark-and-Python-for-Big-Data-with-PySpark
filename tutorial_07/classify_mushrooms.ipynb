{
 "cells": [
  {
   "cell_type": "code",
   "execution_count": 1,
   "metadata": {},
   "outputs": [],
   "source": [
    "import findspark\n",
    "findspark.init()\n",
    "\n",
    "import pyspark"
   ]
  },
  {
   "cell_type": "code",
   "execution_count": 2,
   "metadata": {},
   "outputs": [],
   "source": [
    "from pyspark import SparkContext\n",
    "from pyspark.sql import SparkSession\n",
    "\n",
    "from pyspark.sql.functions import expr, col\n",
    "from pyspark.ml.feature import RFormula\n",
    "from pyspark.ml.classification import LogisticRegression"
   ]
  },
  {
   "cell_type": "code",
   "execution_count": 3,
   "metadata": {},
   "outputs": [],
   "source": [
    "spark= SparkSession.builder.appName('dataframe app').getOrCreate()"
   ]
  },
  {
   "cell_type": "code",
   "execution_count": 6,
   "metadata": {},
   "outputs": [],
   "source": [
    "# load the mushroom dataset:\n",
    "mushroom_data=spark.read.csv(\"mushrooms.csv\",inferSchema=True,header=True)\n",
    "#mushroom_data.show()\n",
    "\n",
    "mushroom_data = mushroom_data.drop(\"VeilType\")\n"
   ]
  },
  {
   "cell_type": "code",
   "execution_count": 8,
   "metadata": {},
   "outputs": [],
   "source": [
    "# preprocess dataset using RFormula\n",
    "\n",
    "supervised = RFormula(formula= \"Lab ~ .\")\n",
    "fittedRF = supervised.fit(mushroom_data)\n",
    "prepareDF = fittedRF.transform(mushroom_data)\n"
   ]
  },
  {
   "cell_type": "code",
   "execution_count": 9,
   "metadata": {},
   "outputs": [],
   "source": [
    "# split dataset into training and test data\n",
    "train, test = prepareDF.randomSplit([0.7, 0.3])"
   ]
  },
  {
   "cell_type": "code",
   "execution_count": 10,
   "metadata": {},
   "outputs": [],
   "source": [
    "# configure classifier\n",
    "lr = LogisticRegression(labelCol=\"label\", featuresCol=\"features\")"
   ]
  },
  {
   "cell_type": "code",
   "execution_count": 11,
   "metadata": {},
   "outputs": [],
   "source": [
    "# train classifier\n",
    "fittedLR = lr.fit(train)"
   ]
  },
  {
   "cell_type": "code",
   "execution_count": 27,
   "metadata": {},
   "outputs": [
    {
     "name": "stdout",
     "output_type": "stream",
     "text": [
      "+------+--------+----------+--------+-------+----+--------------+-----------+--------+---------+----------+---------+---------------------+---------------------+-------------------+-------------------+---------+----------+--------+---------------+----------+-------+--------------------+-----+--------------------+--------------------+----------+\n",
      "|   Lab|CapShape|CapSurface|CapColor|Bruises|Odor|GillAttachment|GillSpacing|GillSize|GillColor|StalkShape|StalkRoot|StalkSurfaceAboveRing|StalkSurfaceBelowRing|StalkColorAboveRing|StalkColorBelowRing|VeilColor|RingNumber|RingType|SporePrintColor|Population|Habitat|            features|label|       rawPrediction|         probability|prediction|\n",
      "+------+--------+----------+--------+-------+----+--------------+-----------+--------+---------+----------+---------+---------------------+---------------------+-------------------+-------------------+---------+----------+--------+---------------+----------+-------+--------------------+-----+--------------------+--------------------+----------+\n",
      "|EDIBLE|    BELL|   FIBROUS|    GRAY|     NO|NONE|          FREE|    CROWDED|   BROAD|     GRAY| ENLARGING|        ?|                SILKY|               SMOOTH|              WHITE|              WHITE|    WHITE|       TWO| PENDANT|          WHITE|  NUMEROUS|GRASSES|(95,[3,7,9,17,18,...|  0.0|[36.8365657462324...|[1.0,1.0048072596...|       0.0|\n",
      "|EDIBLE|    BELL|   FIBROUS|    GRAY|     NO|NONE|          FREE|    CROWDED|   BROAD|     GRAY| ENLARGING|        ?|                SILKY|               SMOOTH|              WHITE|              WHITE|    WHITE|       TWO| PENDANT|          WHITE| SCATTERED|GRASSES|(95,[3,7,9,17,18,...|  0.0|[33.5085704408558...|[0.99999999999999...|       0.0|\n",
      "|EDIBLE|    BELL|   FIBROUS|    GRAY|     NO|NONE|          FREE|    CROWDED|   BROAD|     GRAY| ENLARGING|        ?|               SMOOTH|                SILKY|              WHITE|              WHITE|    WHITE|       TWO| PENDANT|          WHITE| SCATTERED|GRASSES|(95,[3,7,9,17,18,...|  0.0|[43.0267451350435...|[1.0,2.0593113521...|       0.0|\n",
      "|EDIBLE|    BELL|   FIBROUS|    GRAY|     NO|NONE|          FREE|    CROWDED|   BROAD|     GRAY| ENLARGING|        ?|               SMOOTH|               SMOOTH|              WHITE|              WHITE|    WHITE|       TWO| PENDANT|          WHITE|  NUMEROUS|GRASSES|(95,[3,7,9,17,18,...|  0.0|[51.2729461046360...|[1.0,5.4006052694...|       0.0|\n",
      "|EDIBLE|    BELL|   FIBROUS|    GRAY|     NO|NONE|          FREE|    CROWDED|   BROAD|     PINK| ENLARGING|        ?|                SILKY|                SILKY|              WHITE|              WHITE|    WHITE|       TWO| PENDANT|          WHITE|  NUMEROUS|GRASSES|(95,[3,7,9,17,18,...|  0.0|[31.8434098482716...|[0.99999999999998...|       0.0|\n",
      "|EDIBLE|    BELL|   FIBROUS|    GRAY|     NO|NONE|          FREE|    CROWDED|   BROAD|     PINK| ENLARGING|        ?|                SILKY|               SMOOTH|              WHITE|              WHITE|    WHITE|       TWO| PENDANT|          WHITE| SCATTERED|GRASSES|(95,[3,7,9,17,18,...|  0.0|[33.4336202071108...|[0.99999999999999...|       0.0|\n",
      "|EDIBLE|    BELL|   FIBROUS|    GRAY|     NO|NONE|          FREE|    CROWDED|   BROAD|    WHITE| ENLARGING|        ?|                SILKY|                SILKY|              WHITE|              WHITE|    WHITE|       TWO| PENDANT|          WHITE| SCATTERED|GRASSES|(95,[3,7,9,17,18,...|  0.0|[26.7567337259757...|[0.99999999999760...|       0.0|\n",
      "|EDIBLE|    BELL|   FIBROUS|    GRAY|     NO|NONE|          FREE|    CROWDED|   BROAD|    WHITE| ENLARGING|        ?|                SILKY|               SMOOTH|              WHITE|              WHITE|    WHITE|       TWO| PENDANT|          WHITE|  NUMEROUS|GRASSES|(95,[3,7,9,17,18,...|  0.0|[35.0029346955681...|[0.99999999999999...|       0.0|\n",
      "|EDIBLE|    BELL|   FIBROUS|    GRAY|     NO|NONE|          FREE|    CROWDED|   BROAD|    WHITE| ENLARGING|        ?|                SILKY|               SMOOTH|              WHITE|              WHITE|    WHITE|       TWO| PENDANT|          WHITE| SCATTERED|GRASSES|(95,[3,7,9,17,18,...|  0.0|[31.6749393901915...|[0.99999999999998...|       0.0|\n",
      "|EDIBLE|    BELL|   FIBROUS|    GRAY|     NO|NONE|          FREE|    CROWDED|   BROAD|    WHITE| ENLARGING|        ?|               SMOOTH|                SILKY|              WHITE|              WHITE|    WHITE|       TWO| PENDANT|          WHITE| SCATTERED|GRASSES|(95,[3,7,9,17,18,...|  0.0|[41.1931140843793...|[1.0,1.2884211956...|       0.0|\n",
      "|EDIBLE|    BELL|   FIBROUS|   WHITE|     NO|NONE|          FREE|    CROWDED|   BROAD|     GRAY| ENLARGING|        ?|               SMOOTH|                SILKY|              WHITE|              WHITE|    WHITE|       TWO| PENDANT|          WHITE| SCATTERED|GRASSES|(95,[3,7,12,17,18...|  0.0|[35.0761567172288...|[0.99999999999999...|       0.0|\n",
      "|EDIBLE|    BELL|   FIBROUS|   WHITE|     NO|NONE|          FREE|    CROWDED|   BROAD|     GRAY| ENLARGING|        ?|               SMOOTH|               SMOOTH|              WHITE|              WHITE|    WHITE|       TWO| PENDANT|          WHITE|  NUMEROUS|GRASSES|(95,[3,7,12,17,18...|  0.0|[43.3223576868213...|[1.0,1.5322834596...|       0.0|\n",
      "|EDIBLE|    BELL|   FIBROUS|   WHITE|     NO|NONE|          FREE|    CROWDED|   BROAD|     GRAY| ENLARGING|        ?|               SMOOTH|               SMOOTH|              WHITE|              WHITE|    WHITE|       TWO| PENDANT|          WHITE| SCATTERED|GRASSES|(95,[3,7,12,17,18...|  0.0|[39.9943623814447...|[1.0,4.2723724952...|       0.0|\n",
      "|EDIBLE|    BELL|   FIBROUS|   WHITE|     NO|NONE|          FREE|    CROWDED|   BROAD|     PINK| ENLARGING|        ?|               SMOOTH|                SILKY|              WHITE|              WHITE|    WHITE|       TWO| PENDANT|          WHITE|  NUMEROUS|GRASSES|(95,[3,7,12,17,18...|  0.0|[38.3292017888605...|[1.0,2.2585991862...|       0.0|\n",
      "|EDIBLE|    BELL|   FIBROUS|   WHITE|     NO|NONE|          FREE|    CROWDED|   BROAD|     PINK| ENLARGING|        ?|               SMOOTH|               SMOOTH|              WHITE|              WHITE|    WHITE|       TWO| PENDANT|          WHITE| SCATTERED|GRASSES|(95,[3,7,12,17,18...|  0.0|[39.9194121476997...|[1.0,4.6048934253...|       0.0|\n",
      "|EDIBLE|    BELL|   FIBROUS|   WHITE|     NO|NONE|          FREE|    CROWDED|   BROAD|    WHITE| ENLARGING|        ?|                SILKY|                SILKY|              WHITE|              WHITE|    WHITE|       TWO| PENDANT|          WHITE|  NUMEROUS|GRASSES|(95,[3,7,12,17,18...|  0.0|[22.1341406135376...|[0.99999999975607...|       0.0|\n",
      "|EDIBLE|    BELL|   FIBROUS|   WHITE|     NO|NONE|          FREE|    CROWDED|   BROAD|    WHITE| ENLARGING|        ?|                SILKY|               SMOOTH|              WHITE|              WHITE|    WHITE|       TWO| PENDANT|          WHITE| SCATTERED|GRASSES|(95,[3,7,12,17,18...|  0.0|[23.7243509723768...|[0.99999999995026...|       0.0|\n",
      "|EDIBLE|    BELL|   FIBROUS|   WHITE|     NO|NONE|          FREE|    CROWDED|   BROAD|    WHITE| ENLARGING|        ?|               SMOOTH|                SILKY|              WHITE|              WHITE|    WHITE|       TWO| PENDANT|          WHITE|  NUMEROUS|GRASSES|(95,[3,7,12,17,18...|  0.0|[36.5705209719412...|[0.99999999999999...|       0.0|\n",
      "|EDIBLE|    BELL|   FIBROUS|   WHITE|     NO|NONE|          FREE|    CROWDED|   BROAD|    WHITE| ENLARGING|        ?|               SMOOTH|               SMOOTH|              WHITE|              WHITE|    WHITE|       TWO| PENDANT|          WHITE|  NUMEROUS|GRASSES|(95,[3,7,12,17,18...|  0.0|[41.4887266361571...|[1.0,9.5868285537...|       0.0|\n",
      "|EDIBLE|    BELL|     SCALY|   BROWN|     NO|NONE|          FREE|      CLOSE|   BROAD|    WHITE| ENLARGING|  BULBOUS|                SCALY|                SCALY|              BROWN|              BROWN|    WHITE|       TWO| PENDANT|          WHITE|  SOLITARY|  PATHS|(95,[3,5,8,17,18,...|  0.0|[36.6001361569562...|[0.99999999999999...|       0.0|\n",
      "+------+--------+----------+--------+-------+----+--------------+-----------+--------+---------+----------+---------+---------------------+---------------------+-------------------+-------------------+---------+----------+--------+---------------+----------+-------+--------------------+-----+--------------------+--------------------+----------+\n",
      "only showing top 20 rows\n",
      "\n"
     ]
    }
   ],
   "source": [
    "# classify test data set\n",
    "result = fittedLR.transform(test)\n",
    "result.show()"
   ]
  },
  {
   "cell_type": "code",
   "execution_count": 28,
   "metadata": {},
   "outputs": [
    {
     "name": "stdout",
     "output_type": "stream",
     "text": [
      "true postive: 1222\n",
      "false postive: 0\n",
      "false negative: 0\n",
      "true negative: 1331\n"
     ]
    }
   ],
   "source": [
    "result = result.select(\"Lab\", \"prediction\")\n",
    "#result.show()\n",
    "\n",
    "truePositive = result.filter(expr(\"prediction = 1.0 and label = 1.0\")).count()\n",
    "print(\"true postive: \" + str(truePositive))\n",
    "falsePositive = result.filter(expr(\"prediction = 1.0 and label = 0.0\")).count()\n",
    "print(\"false postive: \" + str(falsePositive))\n",
    "falseNegative = result.filter(expr(\"prediction = 0.0 and label = 1.0\")).count()\n",
    "print(\"false negative: \" + str(falseNegative))\n",
    "trueNegative = result.filter(expr(\"prediction = 0.0 and label = 0.0\")).count()\n",
    "print(\"true negative: \" + str(trueNegative))\n"
   ]
  },
  {
   "cell_type": "code",
   "execution_count": 23,
   "metadata": {},
   "outputs": [],
   "source": [
    "spark.stop()"
   ]
  }
 ],
 "metadata": {
  "kernelspec": {
   "display_name": "Python 3",
   "language": "python",
   "name": "python3"
  },
  "language_info": {
   "codemirror_mode": {
    "name": "ipython",
    "version": 3
   },
   "file_extension": ".py",
   "mimetype": "text/x-python",
   "name": "python",
   "nbconvert_exporter": "python",
   "pygments_lexer": "ipython3",
   "version": "3.7.6"
  }
 },
 "nbformat": 4,
 "nbformat_minor": 4
}
