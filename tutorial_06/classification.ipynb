{
 "cells": [
  {
   "cell_type": "code",
   "execution_count": 1,
   "metadata": {},
   "outputs": [],
   "source": [
    "import findspark\n",
    "findspark.init()\n",
    "\n",
    "import pyspark"
   ]
  },
  {
   "cell_type": "code",
   "execution_count": 2,
   "metadata": {},
   "outputs": [],
   "source": [
    "from pyspark import SparkContext\n",
    "from pyspark.sql import SparkSession\n",
    "\n",
    "from pyspark.sql.functions import expr, col\n",
    "from pyspark.ml.feature import RFormula\n",
    "from pyspark.ml.classification import LogisticRegression"
   ]
  },
  {
   "cell_type": "code",
   "execution_count": 3,
   "metadata": {},
   "outputs": [],
   "source": [
    "spark= SparkSession.builder.appName('dataframe app').getOrCreate()"
   ]
  },
  {
   "cell_type": "code",
   "execution_count": 7,
   "metadata": {},
   "outputs": [
    {
     "name": "stdout",
     "output_type": "stream",
     "text": [
      "+----------+----+--------+----+----+--------+-------+--------+-------+--------+--------+--------+----+----+----+--------+-------+----+--------+\n",
      "|AnimalName|Hair|Feathers|Eggs|Milk|Airborne|Aquatic|Predator|Toothed|Backbone|Breathes|Venomous|Fins|Legs|Tail|Domestic|Catsize|Type|IsMammal|\n",
      "+----------+----+--------+----+----+--------+-------+--------+-------+--------+--------+--------+----+----+----+--------+-------+----+--------+\n",
      "|  aardvark|   1|       0|   0|   1|       0|      0|       1|      1|       1|       1|       0|   0|   4|   0|       0|      1|   1|       1|\n",
      "|  antelope|   1|       0|   0|   1|       0|      0|       0|      1|       1|       1|       0|   0|   4|   1|       0|      1|   1|       1|\n",
      "|      bass|   0|       0|   1|   0|       0|      1|       1|      1|       1|       0|       0|   1|   0|   1|       0|      0|   4|       0|\n",
      "|      bear|   1|       0|   0|   1|       0|      0|       1|      1|       1|       1|       0|   0|   4|   0|       0|      1|   1|       1|\n",
      "|      boar|   1|       0|   0|   1|       0|      0|       1|      1|       1|       1|       0|   0|   4|   1|       0|      1|   1|       1|\n",
      "|   buffalo|   1|       0|   0|   1|       0|      0|       0|      1|       1|       1|       0|   0|   4|   1|       0|      1|   1|       1|\n",
      "|      calf|   1|       0|   0|   1|       0|      0|       0|      1|       1|       1|       0|   0|   4|   1|       1|      1|   1|       1|\n",
      "|      carp|   0|       0|   1|   0|       0|      1|       0|      1|       1|       0|       0|   1|   0|   1|       1|      0|   4|       0|\n",
      "|   catfish|   0|       0|   1|   0|       0|      1|       1|      1|       1|       0|       0|   1|   0|   1|       0|      0|   4|       0|\n",
      "|      cavy|   1|       0|   0|   1|       0|      0|       0|      1|       1|       1|       0|   0|   4|   0|       1|      0|   1|       1|\n",
      "|   cheetah|   1|       0|   0|   1|       0|      0|       1|      1|       1|       1|       0|   0|   4|   1|       0|      1|   1|       1|\n",
      "|   chicken|   0|       1|   1|   0|       1|      0|       0|      0|       1|       1|       0|   0|   2|   1|       1|      0|   2|       0|\n",
      "|      chub|   0|       0|   1|   0|       0|      1|       1|      1|       1|       0|       0|   1|   0|   1|       0|      0|   4|       0|\n",
      "|      clam|   0|       0|   1|   0|       0|      0|       1|      0|       0|       0|       0|   0|   0|   0|       0|      0|   7|       0|\n",
      "|      crab|   0|       0|   1|   0|       0|      1|       1|      0|       0|       0|       0|   0|   4|   0|       0|      0|   7|       0|\n",
      "|  crayfish|   0|       0|   1|   0|       0|      1|       1|      0|       0|       0|       0|   0|   6|   0|       0|      0|   7|       0|\n",
      "|      crow|   0|       1|   1|   0|       1|      0|       1|      0|       1|       1|       0|   0|   2|   1|       0|      0|   2|       0|\n",
      "|      deer|   1|       0|   0|   1|       0|      0|       0|      1|       1|       1|       0|   0|   4|   1|       0|      1|   1|       1|\n",
      "|   dogfish|   0|       0|   1|   0|       0|      1|       1|      1|       1|       0|       0|   1|   0|   1|       0|      1|   4|       0|\n",
      "|   dolphin|   0|       0|   0|   1|       0|      1|       1|      1|       1|       1|       0|   1|   0|   1|       0|      1|   1|       1|\n",
      "+----------+----+--------+----+----+--------+-------+--------+-------+--------+--------+--------+----+----+----+--------+-------+----+--------+\n",
      "only showing top 20 rows\n",
      "\n"
     ]
    }
   ],
   "source": [
    "# load the ZOO dataset:\n",
    "zoo_data=spark.read.csv(\"zoo.csv\",inferSchema=True,header=True)\n",
    "#zoo_data.show()\n",
    "zoo_data = zoo_data.withColumn(\"IsMammal\", expr(\"CASE WHEN Type = 1 THEN 1 ELSE 0 END\"))\n",
    "#zoo_data.show()\n"
   ]
  },
  {
   "cell_type": "code",
   "execution_count": 9,
   "metadata": {},
   "outputs": [],
   "source": [
    "# preprocess dataset using RFormula\n",
    "\n",
    "preprocessed_data = RFormula(formula= \"IsMammal ~ Hair + Feathers + Eggs + Milk + Airborne + Aquatic +\" + \n",
    "                             \" Predator + Toothed + Backbone + Venomous + Fins + Legs+\" +\n",
    "                            \"Tail + Domestic + Catsize\")\n",
    "\n",
    "preprocessed_data = preprocessed_data.fit(zoo_data)\n",
    "preprocessed_data = preprocessed_data.transform(zoo_data)"
   ]
  },
  {
   "cell_type": "code",
   "execution_count": 11,
   "metadata": {},
   "outputs": [],
   "source": [
    "# split dataset into training and test data\n",
    "train, test = preprocessed_data.randomSplit([0.7, 0.3])"
   ]
  },
  {
   "cell_type": "code",
   "execution_count": 13,
   "metadata": {},
   "outputs": [],
   "source": [
    "# configure classifier\n",
    "lr = LogisticRegression(labelCol=\"label\", featuresCol=\"features\")"
   ]
  },
  {
   "cell_type": "code",
   "execution_count": 18,
   "metadata": {},
   "outputs": [],
   "source": [
    "# train classifier\n",
    "fittedLR = lr.fit(train)"
   ]
  },
  {
   "cell_type": "code",
   "execution_count": 19,
   "metadata": {},
   "outputs": [
    {
     "name": "stdout",
     "output_type": "stream",
     "text": [
      "+----------+----+--------+----+----+--------+-------+--------+-------+--------+--------+--------+----+----+----+--------+-------+----+--------+--------------------+-----+--------------------+--------------------+----------+\n",
      "|AnimalName|Hair|Feathers|Eggs|Milk|Airborne|Aquatic|Predator|Toothed|Backbone|Breathes|Venomous|Fins|Legs|Tail|Domestic|Catsize|Type|IsMammal|            features|label|       rawPrediction|         probability|prediction|\n",
      "+----------+----+--------+----+----+--------+-------+--------+-------+--------+--------+--------+----+----+----+--------+-------+----+--------+--------------------+-----+--------------------+--------------------+----------+\n",
      "|      bass|   0|       0|   1|   0|       0|      1|       1|      1|       1|       0|       0|   1|   0|   1|       0|      0|   4|       0|(15,[2,5,6,7,8,10...|  0.0|[25.5394423674425...|[0.99999999999190...|       0.0|\n",
      "|      bear|   1|       0|   0|   1|       0|      0|       1|      1|       1|       1|       0|   0|   4|   0|       0|      1|   1|       1|(15,[0,3,6,7,8,11...|  1.0|[-35.001289056258...|[6.29699434617302...|       1.0|\n",
      "|   buffalo|   1|       0|   0|   1|       0|      0|       0|      1|       1|       1|       0|   0|   4|   1|       0|      1|   1|       1|(15,[0,3,7,8,11,1...|  1.0|[-37.360618319553...|[5.94962541042936...|       1.0|\n",
      "|      calf|   1|       0|   0|   1|       0|      0|       0|      1|       1|       1|       0|   0|   4|   1|       1|      1|   1|       1|(15,[0,3,7,8,11,1...|  1.0|[-40.216986207230...|[3.41967482677022...|       1.0|\n",
      "|   catfish|   0|       0|   1|   0|       0|      1|       1|      1|       1|       0|       0|   1|   0|   1|       0|      0|   4|       0|(15,[2,5,6,7,8,10...|  0.0|[25.5394423674425...|[0.99999999999190...|       0.0|\n",
      "|   dogfish|   0|       0|   1|   0|       0|      1|       1|      1|       1|       0|       0|   1|   0|   1|       0|      1|   4|       0|(15,[2,5,6,7,8,10...|  0.0|[20.6936897507376...|[0.99999999896998...|       0.0|\n",
      "|      dove|   0|       1|   1|   0|       1|      0|       0|      0|       1|       1|       0|   0|   2|   1|       1|      0|   2|       0|(15,[1,2,4,8,11,1...|  0.0|[24.7589516028586...|[0.99999999998232...|       0.0|\n",
      "|      duck|   0|       1|   1|   0|       1|      1|       0|      0|       1|       1|       0|   0|   2|   1|       0|      0|   2|       0|(15,[1,2,4,5,8,11...|  0.0|[28.3205518356466...|[0.99999999999949...|       0.0|\n",
      "|  elephant|   1|       0|   0|   1|       0|      0|       0|      1|       1|       1|       0|   0|   4|   1|       0|      1|   1|       1|(15,[0,3,7,8,11,1...|  1.0|[-37.360618319553...|[5.94962541042936...|       1.0|\n",
      "|      frog|   0|       0|   1|   0|       0|      1|       1|      1|       1|       1|       0|   0|   4|   0|       0|      0|   5|       0|(15,[2,5,6,7,8,11...|  0.0|[21.9220699889749...|[0.99999999969844...|       0.0|\n",
      "|      goat|   1|       0|   0|   1|       0|      0|       0|      1|       1|       1|       0|   0|   4|   1|       1|      1|   1|       1|(15,[0,3,7,8,11,1...|  1.0|[-40.216986207230...|[3.41967482677022...|       1.0|\n",
      "|   haddock|   0|       0|   1|   0|       0|      1|       0|      1|       1|       0|       0|   1|   0|   1|       0|      0|   4|       0|(15,[2,5,7,8,10,1...|  0.0|[23.6296986841014...|[0.99999999994532...|       0.0|\n",
      "|   herring|   0|       0|   1|   0|       0|      1|       1|      1|       1|       0|       0|   1|   0|   1|       0|      0|   4|       0|(15,[2,5,6,7,8,10...|  0.0|[25.5394423674425...|[0.99999999999190...|       0.0|\n",
      "|  honeybee|   1|       0|   1|   0|       1|      0|       0|      0|       0|       1|       1|   0|   6|   0|       1|      0|   6|       0|(15,[0,2,4,9,11,1...|  0.0|[22.9113047975277...|[0.99999999988786...|       0.0|\n",
      "|  housefly|   1|       0|   1|   0|       1|      0|       0|      0|       0|       1|       0|   0|   6|   0|       0|      0|   6|       0|(15,[0,2,4,11],[1...|  0.0|[19.1000537633768...|[0.99999999493065...|       0.0|\n",
      "|      lion|   1|       0|   0|   1|       0|      0|       1|      1|       1|       1|       0|   0|   4|   1|       0|      1|   1|       1|(15,[0,3,6,7,8,11...|  1.0|[-35.450874636212...|[4.01680516542373...|       1.0|\n",
      "|      mink|   1|       0|   0|   1|       0|      1|       1|      1|       1|       1|       0|   0|   4|   1|       0|      1|   1|       1|[1.0,0.0,0.0,1.0,...|  1.0|[-34.745642291101...|[8.13128686330700...|       1.0|\n",
      "|      mole|   1|       0|   0|   1|       0|      0|       1|      1|       1|       1|       0|   0|   4|   1|       0|      0|   1|       1|(15,[0,3,6,7,8,11...|  1.0|[-30.605122019507...|[5.10933512082795...|       1.0|\n",
      "|  mongoose|   1|       0|   0|   1|       0|      0|       1|      1|       1|       1|       0|   0|   4|   1|       0|      1|   1|       1|(15,[0,3,6,7,8,11...|  1.0|[-35.450874636212...|[4.01680516542373...|       1.0|\n",
      "|      newt|   0|       0|   1|   0|       0|      1|       1|      1|       1|       1|       0|   0|   4|   1|       0|      0|   5|       0|(15,[2,5,6,7,8,11...|  0.0|[21.4724844090216...|[0.99999999952726...|       0.0|\n",
      "+----------+----+--------+----+----+--------+-------+--------+-------+--------+--------+--------+----+----+----+--------+-------+----+--------+--------------------+-----+--------------------+--------------------+----------+\n",
      "only showing top 20 rows\n",
      "\n"
     ]
    }
   ],
   "source": [
    "# classify test data set\n",
    "result = fittedLR.transform(test)\n",
    "result.show()"
   ]
  },
  {
   "cell_type": "code",
   "execution_count": 22,
   "metadata": {},
   "outputs": [
    {
     "name": "stdout",
     "output_type": "stream",
     "text": [
      "+----------+--------+----------+\n",
      "|AnimalName|IsMammal|prediction|\n",
      "+----------+--------+----------+\n",
      "|      bass|       0|       0.0|\n",
      "|      bear|       1|       1.0|\n",
      "|   buffalo|       1|       1.0|\n",
      "|      calf|       1|       1.0|\n",
      "|   catfish|       0|       0.0|\n",
      "|   dogfish|       0|       0.0|\n",
      "|      dove|       0|       0.0|\n",
      "|      duck|       0|       0.0|\n",
      "|  elephant|       1|       1.0|\n",
      "|      frog|       0|       0.0|\n",
      "|      goat|       1|       1.0|\n",
      "|   haddock|       0|       0.0|\n",
      "|   herring|       0|       0.0|\n",
      "|  honeybee|       0|       0.0|\n",
      "|  housefly|       0|       0.0|\n",
      "|      lion|       1|       1.0|\n",
      "|      mink|       1|       1.0|\n",
      "|      mole|       1|       1.0|\n",
      "|  mongoose|       1|       1.0|\n",
      "|      newt|       0|       0.0|\n",
      "|   ostrich|       0|       0.0|\n",
      "|  porpoise|       1|       1.0|\n",
      "|      puma|       1|       1.0|\n",
      "|   sealion|       1|       1.0|\n",
      "|  seasnake|       0|       0.0|\n",
      "|   skimmer|       0|       0.0|\n",
      "|  slowworm|       0|       0.0|\n",
      "|      slug|       0|       0.0|\n",
      "|  starfish|       0|       0.0|\n",
      "|   termite|       0|       0.0|\n",
      "|  tortoise|       0|       0.0|\n",
      "|      vole|       1|       1.0|\n",
      "|      wren|       0|       0.0|\n",
      "+----------+--------+----------+\n",
      "\n"
     ]
    }
   ],
   "source": [
    "result_extracted = result.select(\"AnimalName\", \"IsMammal\", \"prediction\")\n",
    "result_extracted.show(105)"
   ]
  },
  {
   "cell_type": "code",
   "execution_count": null,
   "metadata": {},
   "outputs": [],
   "source": [
    "spark.stop()"
   ]
  }
 ],
 "metadata": {
  "kernelspec": {
   "display_name": "Python 3",
   "language": "python",
   "name": "python3"
  },
  "language_info": {
   "codemirror_mode": {
    "name": "ipython",
    "version": 3
   },
   "file_extension": ".py",
   "mimetype": "text/x-python",
   "name": "python",
   "nbconvert_exporter": "python",
   "pygments_lexer": "ipython3",
   "version": "3.7.6"
  }
 },
 "nbformat": 4,
 "nbformat_minor": 4
}
