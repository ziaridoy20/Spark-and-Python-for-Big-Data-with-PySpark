{
 "cells": [
  {
   "cell_type": "code",
   "execution_count": 1,
   "metadata": {},
   "outputs": [],
   "source": [
    "import findspark\n",
    "findspark.init()\n",
    "\n",
    "import pyspark"
   ]
  },
  {
   "cell_type": "code",
   "execution_count": 2,
   "metadata": {},
   "outputs": [],
   "source": [
    "from pyspark import SparkContext\n",
    "from pyspark.sql import SparkSession\n",
    "import pyspark.sql.functions as f\n",
    "\n",
    "\n",
    "from pyspark.sql import SparkSession\n",
    "\n",
    "spark= SparkSession.builder.appName('dataframe app').getOrCreate()"
   ]
  },
  {
   "cell_type": "code",
   "execution_count": 3,
   "metadata": {},
   "outputs": [
    {
     "name": "stdout",
     "output_type": "stream",
     "text": [
      "+-----------+----------+----------+-------------------+--------------------+---------------+-----+-----+\n",
      "|customer_id|first_name| last_name|              email|             address|           city|state|  zip|\n",
      "+-----------+----------+----------+-------------------+--------------------+---------------+-----+-----+\n",
      "|          1|    George|Washington|gwashington@usa.gov|  3200 Mt Vernon Hwy|   Mount Vernon|   VA|22121|\n",
      "|          2|      John|     Adams|     jadams@usa.gov|     1250 Hancock St|         Quincy|   MA| 2169|\n",
      "|          3|    Thomas| Jefferson| tjefferson@usa.gov|931 Thomas Jeffer...|Charlottesville|   VA|22902|\n",
      "|          4|     James|   Madison|   jmadison@usa.gov|11350 Constitutio...|         Orange|   VA|22960|\n",
      "|          5|     James|    Monroe|    jmonroe@usa.gov|2050 James Monroe...|Charlottesville|   VA|22902|\n",
      "+-----------+----------+----------+-------------------+--------------------+---------------+-----+-----+\n",
      "\n",
      "+--------+----------+------+-----------+\n",
      "|order_id|order_date|amount|customer_id|\n",
      "+--------+----------+------+-----------+\n",
      "|       1|07/04/1776|234.56|          1|\n",
      "|       2|03/14/1760|  78.5|          3|\n",
      "|       3|05/23/1784| 124.0|          2|\n",
      "|       4|09/03/1790|  65.5|          3|\n",
      "|       5|07/21/1795|  25.5|          5|\n",
      "|       6|11/27/1787|  14.4|          7|\n",
      "+--------+----------+------+-----------+\n",
      "\n",
      "+--------+----------+------+--------+\n",
      "|order_id|order_date|amount|customer|\n",
      "+--------+----------+------+--------+\n",
      "|       1|07/04/1776|234.56|       1|\n",
      "|       2|03/14/1760|  78.5|       3|\n",
      "|       3|05/23/1784| 124.0|       2|\n",
      "|       4|09/03/1790|  65.5|       3|\n",
      "|       5|07/21/1795|  25.5|       5|\n",
      "|       6|11/27/1787|  14.4|       7|\n",
      "+--------+----------+------+--------+\n",
      "\n"
     ]
    }
   ],
   "source": [
    "#load the retail dataset:\n",
    "customers = spark.read.option(\"inferSchema\", \"true\").option(\"header\", \"true\").csv(\"C:\\\\Users\\\\ziaridoy20\\\\Documents\\\\University\\\\Big Data\\\\Tutorial\\\\tutorial_04\\\\customers.csv\")\n",
    "orders = spark.read.option(\"inferSchema\", \"true\").option(\"header\", \"true\").csv(\"C:\\\\Users\\\\ziaridoy20\\\\Documents\\\\University\\\\Big Data\\\\Tutorial\\\\tutorial_04\\\\orders.csv\") \n",
    "orders2 = spark.read.option(\"inferSchema\", \"true\").option(\"header\", \"true\").csv(\"C:\\\\Users\\\\ziaridoy20\\\\Documents\\\\University\\\\Big Data\\\\Tutorial\\\\tutorial_04\\\\orders2.csv\") \n",
    "\n",
    "customers.show()\n",
    "orders.show()\n",
    "orders2.show() "
   ]
  },
  {
   "cell_type": "code",
   "execution_count": 4,
   "metadata": {},
   "outputs": [
    {
     "name": "stdout",
     "output_type": "stream",
     "text": [
      "\n",
      "Natural join:\n",
      "+-----------+----------+----------+-------------------+--------------------+---------------+-----+-----+--------+----------+------+\n",
      "|customer_id|first_name| last_name|              email|             address|           city|state|  zip|order_id|order_date|amount|\n",
      "+-----------+----------+----------+-------------------+--------------------+---------------+-----+-----+--------+----------+------+\n",
      "|          1|    George|Washington|gwashington@usa.gov|  3200 Mt Vernon Hwy|   Mount Vernon|   VA|22121|       1|07/04/1776|234.56|\n",
      "|          2|      John|     Adams|     jadams@usa.gov|     1250 Hancock St|         Quincy|   MA| 2169|       3|05/23/1784| 124.0|\n",
      "|          3|    Thomas| Jefferson| tjefferson@usa.gov|931 Thomas Jeffer...|Charlottesville|   VA|22902|       4|09/03/1790|  65.5|\n",
      "|          3|    Thomas| Jefferson| tjefferson@usa.gov|931 Thomas Jeffer...|Charlottesville|   VA|22902|       2|03/14/1760|  78.5|\n",
      "|          5|     James|    Monroe|    jmonroe@usa.gov|2050 James Monroe...|Charlottesville|   VA|22902|       5|07/21/1795|  25.5|\n",
      "+-----------+----------+----------+-------------------+--------------------+---------------+-----+-----+--------+----------+------+\n",
      "\n"
     ]
    }
   ],
   "source": [
    "#natural join:\n",
    "print(\"\\nNatural join:\")\n",
    "natural_join = customers.join(orders, [\"customer_id\"])\n",
    "natural_join.show()"
   ]
  },
  {
   "cell_type": "code",
   "execution_count": 13,
   "metadata": {},
   "outputs": [
    {
     "name": "stdout",
     "output_type": "stream",
     "text": [
      "\n",
      "Inner join:\n",
      "+-----------+----------+----------+-------------------+--------------------+---------------+-----+-----+--------+----------+------+--------+\n",
      "|customer_id|first_name| last_name|              email|             address|           city|state|  zip|order_id|order_date|amount|customer|\n",
      "+-----------+----------+----------+-------------------+--------------------+---------------+-----+-----+--------+----------+------+--------+\n",
      "|          1|    George|Washington|gwashington@usa.gov|  3200 Mt Vernon Hwy|   Mount Vernon|   VA|22121|       1|07/04/1776|234.56|       1|\n",
      "|          2|      John|     Adams|     jadams@usa.gov|     1250 Hancock St|         Quincy|   MA| 2169|       3|05/23/1784| 124.0|       2|\n",
      "|          3|    Thomas| Jefferson| tjefferson@usa.gov|931 Thomas Jeffer...|Charlottesville|   VA|22902|       4|09/03/1790|  65.5|       3|\n",
      "|          3|    Thomas| Jefferson| tjefferson@usa.gov|931 Thomas Jeffer...|Charlottesville|   VA|22902|       2|03/14/1760|  78.5|       3|\n",
      "|          5|     James|    Monroe|    jmonroe@usa.gov|2050 James Monroe...|Charlottesville|   VA|22902|       5|07/21/1795|  25.5|       5|\n",
      "+-----------+----------+----------+-------------------+--------------------+---------------+-----+-----+--------+----------+------+--------+\n",
      "\n"
     ]
    }
   ],
   "source": [
    "#Inner join:\n",
    "print(\"\\nInner join:\")\n",
    "join_expression = customers[\"customer_id\"] == orders2[\"customer\"]\n",
    "join_type = \"inner\"\n",
    "inner_join = customers.join(orders2, join_expression, join_type)\n",
    "inner_join.show()"
   ]
  },
  {
   "cell_type": "code",
   "execution_count": 17,
   "metadata": {},
   "outputs": [
    {
     "name": "stdout",
     "output_type": "stream",
     "text": [
      "\n",
      "Outer join:\n",
      "+-----------+----------+----------+-------------------+--------------------+---------------+-----+-----+--------+----------+------+--------+\n",
      "|customer_id|first_name| last_name|              email|             address|           city|state|  zip|order_id|order_date|amount|customer|\n",
      "+-----------+----------+----------+-------------------+--------------------+---------------+-----+-----+--------+----------+------+--------+\n",
      "|          1|    George|Washington|gwashington@usa.gov|  3200 Mt Vernon Hwy|   Mount Vernon|   VA|22121|       1|07/04/1776|234.56|       1|\n",
      "|          3|    Thomas| Jefferson| tjefferson@usa.gov|931 Thomas Jeffer...|Charlottesville|   VA|22902|       2|03/14/1760|  78.5|       3|\n",
      "|          3|    Thomas| Jefferson| tjefferson@usa.gov|931 Thomas Jeffer...|Charlottesville|   VA|22902|       4|09/03/1790|  65.5|       3|\n",
      "|          5|     James|    Monroe|    jmonroe@usa.gov|2050 James Monroe...|Charlottesville|   VA|22902|       5|07/21/1795|  25.5|       5|\n",
      "|          4|     James|   Madison|   jmadison@usa.gov|11350 Constitutio...|         Orange|   VA|22960|    null|      null|  null|    null|\n",
      "|       null|      null|      null|               null|                null|           null| null| null|       6|11/27/1787|  14.4|       7|\n",
      "|          2|      John|     Adams|     jadams@usa.gov|     1250 Hancock St|         Quincy|   MA| 2169|       3|05/23/1784| 124.0|       2|\n",
      "+-----------+----------+----------+-------------------+--------------------+---------------+-----+-----+--------+----------+------+--------+\n",
      "\n",
      "\n",
      "Left outer join:\n",
      "+-----------+----------+----------+-------------------+--------------------+---------------+-----+-----+--------+----------+------+--------+\n",
      "|customer_id|first_name| last_name|              email|             address|           city|state|  zip|order_id|order_date|amount|customer|\n",
      "+-----------+----------+----------+-------------------+--------------------+---------------+-----+-----+--------+----------+------+--------+\n",
      "|          1|    George|Washington|gwashington@usa.gov|  3200 Mt Vernon Hwy|   Mount Vernon|   VA|22121|       1|07/04/1776|234.56|       1|\n",
      "|          2|      John|     Adams|     jadams@usa.gov|     1250 Hancock St|         Quincy|   MA| 2169|       3|05/23/1784| 124.0|       2|\n",
      "|          3|    Thomas| Jefferson| tjefferson@usa.gov|931 Thomas Jeffer...|Charlottesville|   VA|22902|       4|09/03/1790|  65.5|       3|\n",
      "|          3|    Thomas| Jefferson| tjefferson@usa.gov|931 Thomas Jeffer...|Charlottesville|   VA|22902|       2|03/14/1760|  78.5|       3|\n",
      "|          4|     James|   Madison|   jmadison@usa.gov|11350 Constitutio...|         Orange|   VA|22960|    null|      null|  null|    null|\n",
      "|          5|     James|    Monroe|    jmonroe@usa.gov|2050 James Monroe...|Charlottesville|   VA|22902|       5|07/21/1795|  25.5|       5|\n",
      "+-----------+----------+----------+-------------------+--------------------+---------------+-----+-----+--------+----------+------+--------+\n",
      "\n",
      "\n",
      "Right outer join:\n",
      "+-----------+----------+----------+-------------------+--------------------+---------------+-----+-----+--------+----------+------+--------+\n",
      "|customer_id|first_name| last_name|              email|             address|           city|state|  zip|order_id|order_date|amount|customer|\n",
      "+-----------+----------+----------+-------------------+--------------------+---------------+-----+-----+--------+----------+------+--------+\n",
      "|          1|    George|Washington|gwashington@usa.gov|  3200 Mt Vernon Hwy|   Mount Vernon|   VA|22121|       1|07/04/1776|234.56|       1|\n",
      "|          3|    Thomas| Jefferson| tjefferson@usa.gov|931 Thomas Jeffer...|Charlottesville|   VA|22902|       2|03/14/1760|  78.5|       3|\n",
      "|          2|      John|     Adams|     jadams@usa.gov|     1250 Hancock St|         Quincy|   MA| 2169|       3|05/23/1784| 124.0|       2|\n",
      "|          3|    Thomas| Jefferson| tjefferson@usa.gov|931 Thomas Jeffer...|Charlottesville|   VA|22902|       4|09/03/1790|  65.5|       3|\n",
      "|          5|     James|    Monroe|    jmonroe@usa.gov|2050 James Monroe...|Charlottesville|   VA|22902|       5|07/21/1795|  25.5|       5|\n",
      "|       null|      null|      null|               null|                null|           null| null| null|       6|11/27/1787|  14.4|       7|\n",
      "+-----------+----------+----------+-------------------+--------------------+---------------+-----+-----+--------+----------+------+--------+\n",
      "\n"
     ]
    }
   ],
   "source": [
    "#Left/Right outer join:\n",
    "print(\"\\nOuter join:\")\n",
    "join_type = \"outer\"\n",
    "outer_join = customers.join(orders2, join_expression, join_type)\n",
    "outer_join.show()\n",
    "\n",
    "print(\"\\nLeft outer join:\")\n",
    "join_type = \"left_outer\"\n",
    "left_outer_join = customers.join(orders2, join_expression, join_type)\n",
    "left_outer_join.show()\n",
    "\n",
    "print(\"\\nRight outer join:\")\n",
    "join_type = \"right_outer\"\n",
    "right_outer_join = customers.join(orders2, join_expression, join_type)\n",
    "right_outer_join.show()\n"
   ]
  },
  {
   "cell_type": "code",
   "execution_count": 19,
   "metadata": {},
   "outputs": [
    {
     "name": "stdout",
     "output_type": "stream",
     "text": [
      "\n",
      "Left semi join:\n",
      "+-----------+----------+----------+-------------------+--------------------+---------------+-----+-----+\n",
      "|customer_id|first_name| last_name|              email|             address|           city|state|  zip|\n",
      "+-----------+----------+----------+-------------------+--------------------+---------------+-----+-----+\n",
      "|          1|    George|Washington|gwashington@usa.gov|  3200 Mt Vernon Hwy|   Mount Vernon|   VA|22121|\n",
      "|          2|      John|     Adams|     jadams@usa.gov|     1250 Hancock St|         Quincy|   MA| 2169|\n",
      "|          3|    Thomas| Jefferson| tjefferson@usa.gov|931 Thomas Jeffer...|Charlottesville|   VA|22902|\n",
      "|          5|     James|    Monroe|    jmonroe@usa.gov|2050 James Monroe...|Charlottesville|   VA|22902|\n",
      "+-----------+----------+----------+-------------------+--------------------+---------------+-----+-----+\n",
      "\n"
     ]
    }
   ],
   "source": [
    "# left semi-join\n",
    "print(\"\\nLeft semi join:\")\n",
    "join_type = \"left_semi\"\n",
    "left_semi_join = customers.join(orders2, join_expression, join_type)\n",
    "#left_semi_join.explain()\n",
    "left_semi_join.show()"
   ]
  },
  {
   "cell_type": "code",
   "execution_count": 20,
   "metadata": {},
   "outputs": [
    {
     "name": "stdout",
     "output_type": "stream",
     "text": [
      "\n",
      "Left anti join:\n",
      "== Physical Plan ==\n",
      "*(2) BroadcastHashJoin [customer_id#10], [customer#57], LeftAnti, BuildRight\n",
      ":- *(2) FileScan csv [customer_id#10,first_name#11,last_name#12,email#13,address#14,city#15,state#16,zip#17] Batched: false, Format: CSV, Location: InMemoryFileIndex[file:/C:/Users/ziaridoy20/Documents/University/Big Data/Tutorial/tutorial_04/cu..., PartitionFilters: [], PushedFilters: [], ReadSchema: struct<customer_id:int,first_name:string,last_name:string,email:string,address:string,city:string...\n",
      "+- BroadcastExchange HashedRelationBroadcastMode(List(cast(input[0, int, true] as bigint)))\n",
      "   +- *(1) Project [customer#57]\n",
      "      +- *(1) Filter isnotnull(customer#57)\n",
      "         +- *(1) FileScan csv [customer#57] Batched: false, Format: CSV, Location: InMemoryFileIndex[file:/C:/Users/ziaridoy20/Documents/University/Big Data/Tutorial/tutorial_04/or..., PartitionFilters: [], PushedFilters: [IsNotNull(customer)], ReadSchema: struct<customer:int>\n",
      "+-----------+----------+---------+----------------+--------------------+------+-----+-----+\n",
      "|customer_id|first_name|last_name|           email|             address|  city|state|  zip|\n",
      "+-----------+----------+---------+----------------+--------------------+------+-----+-----+\n",
      "|          4|     James|  Madison|jmadison@usa.gov|11350 Constitutio...|Orange|   VA|22960|\n",
      "+-----------+----------+---------+----------------+--------------------+------+-----+-----+\n",
      "\n"
     ]
    }
   ],
   "source": [
    "# left anti-join\n",
    "print(\"\\nLeft anti join:\")\n",
    "join_type = \"left_anti\"\n",
    "left_anti_join = customers.join(orders2, join_expression, join_type)\n",
    "left_anti_join.explain()\n",
    "left_anti_join.show()"
   ]
  },
  {
   "cell_type": "code",
   "execution_count": 21,
   "metadata": {},
   "outputs": [
    {
     "name": "stdout",
     "output_type": "stream",
     "text": [
      "\n",
      "Cross join:\n",
      "+-----------+----------+----------+-------------------+--------------------+---------------+-----+-----+-----------+----------+----------+-------------------+--------------------+---------------+-----+-----+\n",
      "|customer_id|first_name| last_name|              email|             address|           city|state|  zip|customer_id|first_name| last_name|              email|             address|           city|state|  zip|\n",
      "+-----------+----------+----------+-------------------+--------------------+---------------+-----+-----+-----------+----------+----------+-------------------+--------------------+---------------+-----+-----+\n",
      "|          1|    George|Washington|gwashington@usa.gov|  3200 Mt Vernon Hwy|   Mount Vernon|   VA|22121|          1|    George|Washington|gwashington@usa.gov|  3200 Mt Vernon Hwy|   Mount Vernon|   VA|22121|\n",
      "|          1|    George|Washington|gwashington@usa.gov|  3200 Mt Vernon Hwy|   Mount Vernon|   VA|22121|          2|      John|     Adams|     jadams@usa.gov|     1250 Hancock St|         Quincy|   MA| 2169|\n",
      "|          1|    George|Washington|gwashington@usa.gov|  3200 Mt Vernon Hwy|   Mount Vernon|   VA|22121|          3|    Thomas| Jefferson| tjefferson@usa.gov|931 Thomas Jeffer...|Charlottesville|   VA|22902|\n",
      "|          1|    George|Washington|gwashington@usa.gov|  3200 Mt Vernon Hwy|   Mount Vernon|   VA|22121|          4|     James|   Madison|   jmadison@usa.gov|11350 Constitutio...|         Orange|   VA|22960|\n",
      "|          1|    George|Washington|gwashington@usa.gov|  3200 Mt Vernon Hwy|   Mount Vernon|   VA|22121|          5|     James|    Monroe|    jmonroe@usa.gov|2050 James Monroe...|Charlottesville|   VA|22902|\n",
      "|          2|      John|     Adams|     jadams@usa.gov|     1250 Hancock St|         Quincy|   MA| 2169|          1|    George|Washington|gwashington@usa.gov|  3200 Mt Vernon Hwy|   Mount Vernon|   VA|22121|\n",
      "|          2|      John|     Adams|     jadams@usa.gov|     1250 Hancock St|         Quincy|   MA| 2169|          2|      John|     Adams|     jadams@usa.gov|     1250 Hancock St|         Quincy|   MA| 2169|\n",
      "|          2|      John|     Adams|     jadams@usa.gov|     1250 Hancock St|         Quincy|   MA| 2169|          3|    Thomas| Jefferson| tjefferson@usa.gov|931 Thomas Jeffer...|Charlottesville|   VA|22902|\n",
      "|          2|      John|     Adams|     jadams@usa.gov|     1250 Hancock St|         Quincy|   MA| 2169|          4|     James|   Madison|   jmadison@usa.gov|11350 Constitutio...|         Orange|   VA|22960|\n",
      "|          2|      John|     Adams|     jadams@usa.gov|     1250 Hancock St|         Quincy|   MA| 2169|          5|     James|    Monroe|    jmonroe@usa.gov|2050 James Monroe...|Charlottesville|   VA|22902|\n",
      "|          3|    Thomas| Jefferson| tjefferson@usa.gov|931 Thomas Jeffer...|Charlottesville|   VA|22902|          1|    George|Washington|gwashington@usa.gov|  3200 Mt Vernon Hwy|   Mount Vernon|   VA|22121|\n",
      "|          3|    Thomas| Jefferson| tjefferson@usa.gov|931 Thomas Jeffer...|Charlottesville|   VA|22902|          2|      John|     Adams|     jadams@usa.gov|     1250 Hancock St|         Quincy|   MA| 2169|\n",
      "|          3|    Thomas| Jefferson| tjefferson@usa.gov|931 Thomas Jeffer...|Charlottesville|   VA|22902|          3|    Thomas| Jefferson| tjefferson@usa.gov|931 Thomas Jeffer...|Charlottesville|   VA|22902|\n",
      "|          3|    Thomas| Jefferson| tjefferson@usa.gov|931 Thomas Jeffer...|Charlottesville|   VA|22902|          4|     James|   Madison|   jmadison@usa.gov|11350 Constitutio...|         Orange|   VA|22960|\n",
      "|          3|    Thomas| Jefferson| tjefferson@usa.gov|931 Thomas Jeffer...|Charlottesville|   VA|22902|          5|     James|    Monroe|    jmonroe@usa.gov|2050 James Monroe...|Charlottesville|   VA|22902|\n",
      "|          4|     James|   Madison|   jmadison@usa.gov|11350 Constitutio...|         Orange|   VA|22960|          1|    George|Washington|gwashington@usa.gov|  3200 Mt Vernon Hwy|   Mount Vernon|   VA|22121|\n",
      "|          4|     James|   Madison|   jmadison@usa.gov|11350 Constitutio...|         Orange|   VA|22960|          2|      John|     Adams|     jadams@usa.gov|     1250 Hancock St|         Quincy|   MA| 2169|\n",
      "|          4|     James|   Madison|   jmadison@usa.gov|11350 Constitutio...|         Orange|   VA|22960|          3|    Thomas| Jefferson| tjefferson@usa.gov|931 Thomas Jeffer...|Charlottesville|   VA|22902|\n",
      "|          4|     James|   Madison|   jmadison@usa.gov|11350 Constitutio...|         Orange|   VA|22960|          4|     James|   Madison|   jmadison@usa.gov|11350 Constitutio...|         Orange|   VA|22960|\n",
      "|          4|     James|   Madison|   jmadison@usa.gov|11350 Constitutio...|         Orange|   VA|22960|          5|     James|    Monroe|    jmonroe@usa.gov|2050 James Monroe...|Charlottesville|   VA|22902|\n",
      "+-----------+----------+----------+-------------------+--------------------+---------------+-----+-----+-----------+----------+----------+-------------------+--------------------+---------------+-----+-----+\n",
      "only showing top 20 rows\n",
      "\n"
     ]
    }
   ],
   "source": [
    "# cross join\n",
    "print(\"\\nCross join:\")\n",
    "cross_join = customers.crossJoin(customers)\n",
    "cross_join.show()"
   ]
  },
  {
   "cell_type": "code",
   "execution_count": 22,
   "metadata": {},
   "outputs": [],
   "source": [
    "spark.stop()"
   ]
  }
 ],
 "metadata": {
  "kernelspec": {
   "display_name": "Python 3",
   "language": "python",
   "name": "python3"
  },
  "language_info": {
   "codemirror_mode": {
    "name": "ipython",
    "version": 3
   },
   "file_extension": ".py",
   "mimetype": "text/x-python",
   "name": "python",
   "nbconvert_exporter": "python",
   "pygments_lexer": "ipython3",
   "version": "3.7.6"
  }
 },
 "nbformat": 4,
 "nbformat_minor": 4
}
