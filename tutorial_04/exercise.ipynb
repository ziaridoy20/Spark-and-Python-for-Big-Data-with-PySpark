{
 "cells": [
  {
   "cell_type": "code",
   "execution_count": 1,
   "metadata": {},
   "outputs": [],
   "source": [
    "import findspark\n",
    "findspark.init()\n",
    "\n",
    "import pyspark"
   ]
  },
  {
   "cell_type": "code",
   "execution_count": 2,
   "metadata": {},
   "outputs": [],
   "source": [
    "from pyspark import SparkContext\n",
    "from pyspark.sql import SparkSession\n",
    "import pyspark.sql.functions as f"
   ]
  },
  {
   "cell_type": "code",
   "execution_count": 3,
   "metadata": {},
   "outputs": [],
   "source": [
    "from pyspark.sql import SparkSession\n",
    "\n",
    "\n",
    "spark= SparkSession.builder.appName('dataframe').getOrCreate()"
   ]
  },
  {
   "cell_type": "code",
   "execution_count": 4,
   "metadata": {},
   "outputs": [],
   "source": [
    "# load the retail dataset:\n",
    "retail_data=spark.read.csv(\"online-retail-dataset.csv\",inferSchema=True,header=True,timestampFormat=\"dd/M/yyyy H:mm\")"
   ]
  },
  {
   "cell_type": "code",
   "execution_count": 5,
   "metadata": {},
   "outputs": [
    {
     "name": "stdout",
     "output_type": "stream",
     "text": [
      "+---------+---------+--------------------+--------+-------------------+---------+----------+--------------+\n",
      "|InvoiceNo|StockCode|         Description|Quantity|        InvoiceDate|UnitPrice|CustomerID|       Country|\n",
      "+---------+---------+--------------------+--------+-------------------+---------+----------+--------------+\n",
      "|   536365|   85123A|WHITE HANGING HEA...|       6|2010-01-12 08:26:00|     2.55|     17850|United Kingdom|\n",
      "|   536365|    71053| WHITE METAL LANTERN|       6|2010-01-12 08:26:00|     3.39|     17850|United Kingdom|\n",
      "|   536365|   84406B|CREAM CUPID HEART...|       8|2010-01-12 08:26:00|     2.75|     17850|United Kingdom|\n",
      "|   536365|   84029G|KNITTED UNION FLA...|       6|2010-01-12 08:26:00|     3.39|     17850|United Kingdom|\n",
      "|   536365|   84029E|RED WOOLLY HOTTIE...|       6|2010-01-12 08:26:00|     3.39|     17850|United Kingdom|\n",
      "|   536365|    22752|SET 7 BABUSHKA NE...|       2|2010-01-12 08:26:00|     7.65|     17850|United Kingdom|\n",
      "|   536365|    21730|GLASS STAR FROSTE...|       6|2010-01-12 08:26:00|     4.25|     17850|United Kingdom|\n",
      "|   536366|    22633|HAND WARMER UNION...|       6|2010-01-12 08:28:00|     1.85|     17850|United Kingdom|\n",
      "|   536366|    22632|HAND WARMER RED P...|       6|2010-01-12 08:28:00|     1.85|     17850|United Kingdom|\n",
      "|   536367|    84879|ASSORTED COLOUR B...|      32|2010-01-12 08:34:00|     1.69|     13047|United Kingdom|\n",
      "|   536367|    22745|POPPY'S PLAYHOUSE...|       6|2010-01-12 08:34:00|      2.1|     13047|United Kingdom|\n",
      "|   536367|    22748|POPPY'S PLAYHOUSE...|       6|2010-01-12 08:34:00|      2.1|     13047|United Kingdom|\n",
      "|   536367|    22749|FELTCRAFT PRINCES...|       8|2010-01-12 08:34:00|     3.75|     13047|United Kingdom|\n",
      "|   536367|    22310|IVORY KNITTED MUG...|       6|2010-01-12 08:34:00|     1.65|     13047|United Kingdom|\n",
      "|   536367|    84969|BOX OF 6 ASSORTED...|       6|2010-01-12 08:34:00|     4.25|     13047|United Kingdom|\n",
      "|   536367|    22623|BOX OF VINTAGE JI...|       3|2010-01-12 08:34:00|     4.95|     13047|United Kingdom|\n",
      "|   536367|    22622|BOX OF VINTAGE AL...|       2|2010-01-12 08:34:00|     9.95|     13047|United Kingdom|\n",
      "|   536367|    21754|HOME BUILDING BLO...|       3|2010-01-12 08:34:00|     5.95|     13047|United Kingdom|\n",
      "|   536367|    21755|LOVE BUILDING BLO...|       3|2010-01-12 08:34:00|     5.95|     13047|United Kingdom|\n",
      "|   536367|    21777|RECIPE BOX WITH M...|       4|2010-01-12 08:34:00|     7.95|     13047|United Kingdom|\n",
      "+---------+---------+--------------------+--------+-------------------+---------+----------+--------------+\n",
      "only showing top 20 rows\n",
      "\n"
     ]
    }
   ],
   "source": [
    "retail_data.show()"
   ]
  },
  {
   "cell_type": "code",
   "execution_count": 6,
   "metadata": {},
   "outputs": [],
   "source": [
    "### Question 1 ###\n",
    "# How many orders did customers perform at which hour?\n",
    "\n",
    "# a) SQL\n",
    "retail_data.createOrReplaceTempView(\"retailTable\")\n"
   ]
  },
  {
   "cell_type": "code",
   "execution_count": 7,
   "metadata": {},
   "outputs": [
    {
     "name": "stdout",
     "output_type": "stream",
     "text": [
      "+-----------+----------+\n",
      "|InvoiceHour|NoInvoices|\n",
      "+-----------+----------+\n",
      "|          6|        22|\n",
      "|          7|        31|\n",
      "|          8|       624|\n",
      "|          9|      1824|\n",
      "|         10|      2961|\n",
      "|         11|      3165|\n",
      "|         12|      3962|\n",
      "|         13|      3369|\n",
      "|         14|      3137|\n",
      "|         15|      3069|\n",
      "|         16|      1952|\n",
      "|         17|      1205|\n",
      "|         18|       333|\n",
      "|         19|       219|\n",
      "|         20|        28|\n",
      "+-----------+----------+\n",
      "\n"
     ]
    }
   ],
   "source": [
    "result = spark.sql(\"\"\"\n",
    "SELECT hour(InvoiceDate) as InvoiceHour, count(distinct InvoiceNo) as NoInvoices\n",
    "FROM retailTable\n",
    "GROUP BY InvoiceHour\n",
    "ORDER BY InvoiceHour\n",
    "\"\"\")\n",
    "result.show()"
   ]
  },
  {
   "cell_type": "code",
   "execution_count": 8,
   "metadata": {},
   "outputs": [
    {
     "name": "stdout",
     "output_type": "stream",
     "text": [
      "+-----------+----------+\n",
      "|InvoiceHour|NoInvoices|\n",
      "+-----------+----------+\n",
      "|          6|        22|\n",
      "|          7|        31|\n",
      "|          8|       624|\n",
      "|          9|      1824|\n",
      "|         10|      2961|\n",
      "|         11|      3165|\n",
      "|         12|      3962|\n",
      "|         13|      3369|\n",
      "|         14|      3137|\n",
      "|         15|      3069|\n",
      "|         16|      1952|\n",
      "|         17|      1205|\n",
      "|         18|       333|\n",
      "|         19|       219|\n",
      "|         20|        28|\n",
      "+-----------+----------+\n",
      "\n"
     ]
    }
   ],
   "source": [
    "# b) Spark\n",
    "result = retail_data.selectExpr(\"hour(InvoiceDate) as InvoiceHour\", \"InvoiceNo\").distinct().groupBy('InvoiceHour').agg(f.expr(\"count(InvoiceNo) as NoInvoices\")).orderBy('InvoiceHour')\n",
    "result.show()"
   ]
  },
  {
   "cell_type": "code",
   "execution_count": 10,
   "metadata": {},
   "outputs": [],
   "source": [
    "### Question 2 ###\n",
    "#How frequently was each product brought in the different countries?\n",
    "\n",
    "# a) SQL\n",
    "df_selection = retail_data.selectExpr(\"StockCode\", \"Quantity\", \"Country\")\n",
    "#df_selection.show()\n",
    "df_nonull = df_selection.na.replace([\"\"],[\"UNKNOWN\"],\"StockCode\").na.replace([\"\"],[\"UNKNOWN\"],\"Country\").na.drop(\"any\")\n",
    "df_nonull.createOrReplaceTempView(\"retailNoNull\")\n",
    "\n"
   ]
  },
  {
   "cell_type": "code",
   "execution_count": 12,
   "metadata": {},
   "outputs": [
    {
     "name": "stdout",
     "output_type": "stream",
     "text": [
      "+-------+---------+--------+\n",
      "|Country|StockCode|Quantity|\n",
      "+-------+---------+--------+\n",
      "|   null|     null| 5176450|\n",
      "|   null|    10002|    1037|\n",
      "|   null|    10080|     495|\n",
      "|   null|    10120|     193|\n",
      "|   null|   10123C|     -13|\n",
      "|   null|   10123G|     -38|\n",
      "|   null|   10124A|      16|\n",
      "|   null|   10124G|      17|\n",
      "|   null|    10125|    1296|\n",
      "|   null|    10133|    2775|\n",
      "|   null|    10134|     -19|\n",
      "|   null|    10135|    2230|\n",
      "|   null|    11001|    1430|\n",
      "|   null|    15030|     293|\n",
      "|   null|    15034|    5206|\n",
      "|   null|    15036|   22552|\n",
      "|   null|    15039|    2065|\n",
      "|   null|   15044A|     463|\n",
      "|   null|   15044B|     293|\n",
      "|   null|   15044C|     311|\n",
      "+-------+---------+--------+\n",
      "only showing top 20 rows\n",
      "\n"
     ]
    }
   ],
   "source": [
    "result = spark.sql(\"\"\"\n",
    "SELECT Country, StockCode, sum(Quantity) as Quantity\n",
    "FROM retailNoNull\n",
    "GROUP BY Country, StockCode\n",
    "GROUPING SETS ((Country, StockCode), (Country), (StockCode), ())\n",
    "ORDER BY Country, StockCode\n",
    "\"\"\")\n",
    "result.show()\n",
    "\n"
   ]
  },
  {
   "cell_type": "code",
   "execution_count": 13,
   "metadata": {},
   "outputs": [
    {
     "name": "stdout",
     "output_type": "stream",
     "text": [
      "+-------+---------+--------+\n",
      "|Country|StockCode|Quantity|\n",
      "+-------+---------+--------+\n",
      "|   null|     null| 5176450|\n",
      "|   null|    10002|    1037|\n",
      "|   null|    10080|     495|\n",
      "|   null|    10120|     193|\n",
      "|   null|   10123C|     -13|\n",
      "|   null|   10123G|     -38|\n",
      "|   null|   10124A|      16|\n",
      "|   null|   10124G|      17|\n",
      "|   null|    10125|    1296|\n",
      "|   null|    10133|    2775|\n",
      "|   null|    10134|     -19|\n",
      "|   null|    10135|    2230|\n",
      "|   null|    11001|    1430|\n",
      "|   null|    15030|     293|\n",
      "|   null|    15034|    5206|\n",
      "|   null|    15036|   22552|\n",
      "|   null|    15039|    2065|\n",
      "|   null|   15044A|     463|\n",
      "|   null|   15044B|     293|\n",
      "|   null|   15044C|     311|\n",
      "+-------+---------+--------+\n",
      "only showing top 20 rows\n",
      "\n"
     ]
    }
   ],
   "source": [
    "# b) Spark\n",
    "\n",
    "result = df_nonull.cube(\"Country\", \"StockCode\").agg(f.sum(\"Quantity\").alias(\"Quantity\")).orderBy(f.col(\"Country\"), f.col(\"Stockcode\"))\n",
    "result.show()"
   ]
  },
  {
   "cell_type": "code",
   "execution_count": 15,
   "metadata": {},
   "outputs": [],
   "source": [
    "result.coalesce(1).write.format(\"csv\").option(\"header\", \"true\").save(\"C:\\\\Users\\\\ziaridoy20\\\\Documents\\\\University\\\\Big Data\\\\Tutorial\\\\tutorial_04\\\\frequencies\")"
   ]
  }
 ],
 "metadata": {
  "kernelspec": {
   "display_name": "Python 3",
   "language": "python",
   "name": "python3"
  },
  "language_info": {
   "codemirror_mode": {
    "name": "ipython",
    "version": 3
   },
   "file_extension": ".py",
   "mimetype": "text/x-python",
   "name": "python",
   "nbconvert_exporter": "python",
   "pygments_lexer": "ipython3",
   "version": "3.7.6"
  }
 },
 "nbformat": 4,
 "nbformat_minor": 4
}
