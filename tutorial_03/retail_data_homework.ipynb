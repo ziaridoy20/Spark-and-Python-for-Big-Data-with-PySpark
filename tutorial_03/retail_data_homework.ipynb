{
 "cells": [
  {
   "cell_type": "code",
   "execution_count": 51,
   "metadata": {},
   "outputs": [],
   "source": [
    "#############\n",
    "#############  Team Member :\n",
    "#############  Name : Md Ziauddin Ridoy\n",
    "#############  Matriculation Number : 220100676\n",
    "#############    "
   ]
  },
  {
   "cell_type": "code",
   "execution_count": 1,
   "metadata": {},
   "outputs": [],
   "source": [
    "import findspark\n",
    "findspark.init()\n",
    "\n",
    "import pyspark"
   ]
  },
  {
   "cell_type": "code",
   "execution_count": 3,
   "metadata": {},
   "outputs": [],
   "source": [
    "from pyspark import SparkContext\n",
    "from pyspark.sql import SparkSession\n",
    "from pyspark.sql.functions import desc, col, sum"
   ]
  },
  {
   "cell_type": "code",
   "execution_count": 7,
   "metadata": {},
   "outputs": [],
   "source": [
    "from pyspark.sql import SparkSession\n",
    "\n",
    "\n",
    "spark= SparkSession.builder.appName('dataframe').getOrCreate()"
   ]
  },
  {
   "cell_type": "code",
   "execution_count": 9,
   "metadata": {},
   "outputs": [],
   "source": [
    "# load the retail dataset:\n",
    "retail_data=spark.read.csv(\"online-retail-dataset.csv\",inferSchema=True,header=True)"
   ]
  },
  {
   "cell_type": "code",
   "execution_count": 10,
   "metadata": {},
   "outputs": [
    {
     "name": "stdout",
     "output_type": "stream",
     "text": [
      "+---------+---------+--------------------+--------+--------------+---------+----------+--------------+\n",
      "|InvoiceNo|StockCode|         Description|Quantity|   InvoiceDate|UnitPrice|CustomerID|       Country|\n",
      "+---------+---------+--------------------+--------+--------------+---------+----------+--------------+\n",
      "|   536365|   85123A|WHITE HANGING HEA...|       6|12/1/2010 8:26|     2.55|     17850|United Kingdom|\n",
      "|   536365|    71053| WHITE METAL LANTERN|       6|12/1/2010 8:26|     3.39|     17850|United Kingdom|\n",
      "|   536365|   84406B|CREAM CUPID HEART...|       8|12/1/2010 8:26|     2.75|     17850|United Kingdom|\n",
      "|   536365|   84029G|KNITTED UNION FLA...|       6|12/1/2010 8:26|     3.39|     17850|United Kingdom|\n",
      "|   536365|   84029E|RED WOOLLY HOTTIE...|       6|12/1/2010 8:26|     3.39|     17850|United Kingdom|\n",
      "|   536365|    22752|SET 7 BABUSHKA NE...|       2|12/1/2010 8:26|     7.65|     17850|United Kingdom|\n",
      "|   536365|    21730|GLASS STAR FROSTE...|       6|12/1/2010 8:26|     4.25|     17850|United Kingdom|\n",
      "|   536366|    22633|HAND WARMER UNION...|       6|12/1/2010 8:28|     1.85|     17850|United Kingdom|\n",
      "|   536366|    22632|HAND WARMER RED P...|       6|12/1/2010 8:28|     1.85|     17850|United Kingdom|\n",
      "|   536367|    84879|ASSORTED COLOUR B...|      32|12/1/2010 8:34|     1.69|     13047|United Kingdom|\n",
      "|   536367|    22745|POPPY'S PLAYHOUSE...|       6|12/1/2010 8:34|      2.1|     13047|United Kingdom|\n",
      "|   536367|    22748|POPPY'S PLAYHOUSE...|       6|12/1/2010 8:34|      2.1|     13047|United Kingdom|\n",
      "|   536367|    22749|FELTCRAFT PRINCES...|       8|12/1/2010 8:34|     3.75|     13047|United Kingdom|\n",
      "|   536367|    22310|IVORY KNITTED MUG...|       6|12/1/2010 8:34|     1.65|     13047|United Kingdom|\n",
      "|   536367|    84969|BOX OF 6 ASSORTED...|       6|12/1/2010 8:34|     4.25|     13047|United Kingdom|\n",
      "|   536367|    22623|BOX OF VINTAGE JI...|       3|12/1/2010 8:34|     4.95|     13047|United Kingdom|\n",
      "|   536367|    22622|BOX OF VINTAGE AL...|       2|12/1/2010 8:34|     9.95|     13047|United Kingdom|\n",
      "|   536367|    21754|HOME BUILDING BLO...|       3|12/1/2010 8:34|     5.95|     13047|United Kingdom|\n",
      "|   536367|    21755|LOVE BUILDING BLO...|       3|12/1/2010 8:34|     5.95|     13047|United Kingdom|\n",
      "|   536367|    21777|RECIPE BOX WITH M...|       4|12/1/2010 8:34|     7.95|     13047|United Kingdom|\n",
      "+---------+---------+--------------------+--------+--------------+---------+----------+--------------+\n",
      "only showing top 20 rows\n",
      "\n"
     ]
    }
   ],
   "source": [
    "retail_data.show()"
   ]
  },
  {
   "cell_type": "code",
   "execution_count": 11,
   "metadata": {},
   "outputs": [
    {
     "name": "stdout",
     "output_type": "stream",
     "text": [
      "+---------+------------+\n",
      "|StockCode|sum_quantity|\n",
      "+---------+------------+\n",
      "|    22197|       56450|\n",
      "|    84077|       53847|\n",
      "|   85099B|       47363|\n",
      "|   85123A|       38830|\n",
      "|    84879|       36221|\n",
      "+---------+------------+\n",
      "only showing top 5 rows\n",
      "\n"
     ]
    }
   ],
   "source": [
    "# # Which item was bought most (total) ?\n",
    "best_selling_items = retail_data.groupBy(col(\"StockCode\")).agg(sum(col(\"Quantity\")).alias(\"sum_quantity\")).sort(desc(\"sum_quantity\"))\n",
    "best_selling_items.show(5)\n"
   ]
  },
  {
   "cell_type": "code",
   "execution_count": 14,
   "metadata": {},
   "outputs": [
    {
     "name": "stdout",
     "output_type": "stream",
     "text": [
      "+---------+--------------------+\n",
      "|StockCode|         Description|\n",
      "+---------+--------------------+\n",
      "|    22197|SMALL POPCORN HOLDER|\n",
      "|    22197|      POPCORN HOLDER|\n",
      "+---------+--------------------+\n",
      "\n"
     ]
    }
   ],
   "source": [
    "# # Description of the item which was bought most\n",
    "retail_data.select(\"StockCode\", \"Description\").where(col(\"StockCode\") == \"22197\").dropDuplicates().show()"
   ]
  },
  {
   "cell_type": "code",
   "execution_count": 17,
   "metadata": {},
   "outputs": [
    {
     "name": "stdout",
     "output_type": "stream",
     "text": [
      "+---------+------------+\n",
      "|StockCode|sum_quantity|\n",
      "+---------+------------+\n",
      "|    23366|          88|\n",
      "|    20975|          72|\n",
      "|    21121|          48|\n",
      "|    21124|          48|\n",
      "|    21123|          48|\n",
      "+---------+------------+\n",
      "only showing top 5 rows\n",
      "\n"
     ]
    }
   ],
   "source": [
    "# # which item was bought most in the USA?\n",
    "best_selling_items_usa = retail_data.where(col(\"Country\") == \"USA\").groupBy(col(\"StockCode\")).agg(sum(col(\"Quantity\")).alias(\"sum_quantity\")).sort(desc(\"sum_quantity\"))\n",
    "best_selling_items_usa.show(5)"
   ]
  },
  {
   "cell_type": "code",
   "execution_count": 18,
   "metadata": {},
   "outputs": [
    {
     "name": "stdout",
     "output_type": "stream",
     "text": [
      "+---------+--------------------+\n",
      "|StockCode|         Description|\n",
      "+---------+--------------------+\n",
      "|    23366|SET 12 COLOUR PEN...|\n",
      "|    23366|SET 12 COLOURING ...|\n",
      "|    23366|SET 12 COLOURING ...|\n",
      "+---------+--------------------+\n",
      "\n"
     ]
    }
   ],
   "source": [
    "# # Description of the item which was bought most in USA\n",
    "retail_data.select(\"StockCode\", \"Description\").where(col(\"StockCode\") == \"23366\").dropDuplicates().show()"
   ]
  },
  {
   "cell_type": "code",
   "execution_count": 19,
   "metadata": {},
   "outputs": [
    {
     "name": "stdout",
     "output_type": "stream",
     "text": [
      "+---------+----------+\n",
      "|InvoiceNo|total_cost|\n",
      "+---------+----------+\n",
      "|  C581484| -168469.6|\n",
      "|  C541433|  -77183.6|\n",
      "|  C556445|  -38970.0|\n",
      "|  C550456|  -22998.4|\n",
      "|  C580605| -17836.46|\n",
      "|  C540117| -16888.02|\n",
      "|  C540118| -16453.71|\n",
      "|  C537651| -13541.33|\n",
      "|  C537630| -13541.33|\n",
      "|  C537644| -13474.79|\n",
      "|  C570556| -11816.64|\n",
      "|  C580604|  -11586.5|\n",
      "|  A563186| -11062.06|\n",
      "|  A563187| -11062.06|\n",
      "|  C573079|  -8322.12|\n",
      "|  C574902|  -8286.22|\n",
      "|  C551685|  -8142.75|\n",
      "|  C566899|  -7427.97|\n",
      "|  C553355|  -7006.83|\n",
      "|  C551699|   -6930.0|\n",
      "+---------+----------+\n",
      "only showing top 20 rows\n",
      "\n"
     ]
    }
   ],
   "source": [
    "# # Which was the lowest invoice (>0), which one the highest?\n",
    "all_invoices = retail_data.groupBy(col(\"InvoiceNo\")).agg(sum(col(\"UnitPrice\")*col(\"Quantity\")).alias(\"total_cost\")).sort(col(\"total_cost\"))\n",
    "all_invoices.show()"
   ]
  },
  {
   "cell_type": "code",
   "execution_count": 20,
   "metadata": {},
   "outputs": [
    {
     "name": "stdout",
     "output_type": "stream",
     "text": [
      "+---------+----------+\n",
      "|InvoiceNo|total_cost|\n",
      "+---------+----------+\n",
      "|   570554|      0.38|\n",
      "|   567869|       0.4|\n",
      "|   539441|      0.42|\n",
      "|   542736|      0.55|\n",
      "|   573589|      0.55|\n",
      "|   540833|      0.65|\n",
      "|   560217|      0.79|\n",
      "|   542136|      0.84|\n",
      "|   546876|      0.84|\n",
      "|   549534|      0.84|\n",
      "|   544438|      0.85|\n",
      "|   551538|      0.85|\n",
      "|   544927|      0.85|\n",
      "|   540945|      0.85|\n",
      "|   539645|      0.95|\n",
      "|   538194|      0.95|\n",
      "|   538669|      0.95|\n",
      "|   572832|       1.0|\n",
      "|   558055|      1.07|\n",
      "|   564665|       1.1|\n",
      "+---------+----------+\n",
      "only showing top 20 rows\n",
      "\n"
     ]
    }
   ],
   "source": [
    "# # postive invoices ; lowest invoice / Highest invoice\n",
    "postive_invoices = all_invoices.where(col(\"total_cost\") > 0)\n",
    "postive_invoices.show()\n",
    "\n"
   ]
  },
  {
   "cell_type": "code",
   "execution_count": 21,
   "metadata": {},
   "outputs": [
    {
     "name": "stdout",
     "output_type": "stream",
     "text": [
      "+---------+---------+--------------------+--------+--------------+---------+----------+--------------+----------------+\n",
      "|InvoiceNo|StockCode|         Description|Quantity|   InvoiceDate|UnitPrice|CustomerID|       Country|BroughtInGermany|\n",
      "+---------+---------+--------------------+--------+--------------+---------+----------+--------------+----------------+\n",
      "|   536365|   85123A|WHITE HANGING HEA...|       6|12/1/2010 8:26|     2.55|     17850|United Kingdom|           false|\n",
      "|   536365|    71053| WHITE METAL LANTERN|       6|12/1/2010 8:26|     3.39|     17850|United Kingdom|           false|\n",
      "|   536365|   84406B|CREAM CUPID HEART...|       8|12/1/2010 8:26|     2.75|     17850|United Kingdom|           false|\n",
      "|   536365|   84029G|KNITTED UNION FLA...|       6|12/1/2010 8:26|     3.39|     17850|United Kingdom|           false|\n",
      "|   536365|   84029E|RED WOOLLY HOTTIE...|       6|12/1/2010 8:26|     3.39|     17850|United Kingdom|           false|\n",
      "|   536365|    22752|SET 7 BABUSHKA NE...|       2|12/1/2010 8:26|     7.65|     17850|United Kingdom|           false|\n",
      "|   536365|    21730|GLASS STAR FROSTE...|       6|12/1/2010 8:26|     4.25|     17850|United Kingdom|           false|\n",
      "|   536366|    22633|HAND WARMER UNION...|       6|12/1/2010 8:28|     1.85|     17850|United Kingdom|           false|\n",
      "|   536366|    22632|HAND WARMER RED P...|       6|12/1/2010 8:28|     1.85|     17850|United Kingdom|           false|\n",
      "|   536367|    84879|ASSORTED COLOUR B...|      32|12/1/2010 8:34|     1.69|     13047|United Kingdom|           false|\n",
      "|   536367|    22745|POPPY'S PLAYHOUSE...|       6|12/1/2010 8:34|      2.1|     13047|United Kingdom|           false|\n",
      "|   536367|    22748|POPPY'S PLAYHOUSE...|       6|12/1/2010 8:34|      2.1|     13047|United Kingdom|           false|\n",
      "|   536367|    22749|FELTCRAFT PRINCES...|       8|12/1/2010 8:34|     3.75|     13047|United Kingdom|           false|\n",
      "|   536367|    22310|IVORY KNITTED MUG...|       6|12/1/2010 8:34|     1.65|     13047|United Kingdom|           false|\n",
      "|   536367|    84969|BOX OF 6 ASSORTED...|       6|12/1/2010 8:34|     4.25|     13047|United Kingdom|           false|\n",
      "|   536367|    22623|BOX OF VINTAGE JI...|       3|12/1/2010 8:34|     4.95|     13047|United Kingdom|           false|\n",
      "|   536367|    22622|BOX OF VINTAGE AL...|       2|12/1/2010 8:34|     9.95|     13047|United Kingdom|           false|\n",
      "|   536367|    21754|HOME BUILDING BLO...|       3|12/1/2010 8:34|     5.95|     13047|United Kingdom|           false|\n",
      "|   536367|    21755|LOVE BUILDING BLO...|       3|12/1/2010 8:34|     5.95|     13047|United Kingdom|           false|\n",
      "|   536367|    21777|RECIPE BOX WITH M...|       4|12/1/2010 8:34|     7.95|     13047|United Kingdom|           false|\n",
      "+---------+---------+--------------------+--------+--------------+---------+----------+--------------+----------------+\n",
      "only showing top 20 rows\n",
      "\n"
     ]
    }
   ],
   "source": [
    "# # Add a column which displays whether an item was purchased in Germany\n",
    "retail_data_germany = retail_data.withColumn(\"BroughtInGermany\", col(\"Country\") == \"Germany\")\n",
    "retail_data_germany.show()\n"
   ]
  },
  {
   "cell_type": "code",
   "execution_count": 30,
   "metadata": {},
   "outputs": [
    {
     "name": "stdout",
     "output_type": "stream",
     "text": [
      "+---------+---------+--------------------+--------+---------------+---------+----------+-------+----------------+\n",
      "|InvoiceNo|StockCode|         Description|Quantity|    InvoiceDate|UnitPrice|CustomerID|Country|BroughtInGermany|\n",
      "+---------+---------+--------------------+--------+---------------+---------+----------+-------+----------------+\n",
      "|   536527|    22809|SET OF 6 T-LIGHTS...|       6|12/1/2010 13:04|     2.95|     12662|Germany|            true|\n",
      "|   536527|    84347|ROTATING SILVER A...|       6|12/1/2010 13:04|     2.55|     12662|Germany|            true|\n",
      "|   536527|    84945|MULTI COLOUR SILV...|      12|12/1/2010 13:04|     0.85|     12662|Germany|            true|\n",
      "|   536527|    22242|5 HOOK HANGER MAG...|      12|12/1/2010 13:04|     1.65|     12662|Germany|            true|\n",
      "|   536527|    22244|3 HOOK HANGER MAG...|      12|12/1/2010 13:04|     1.95|     12662|Germany|            true|\n",
      "|   536527|    22243|5 HOOK HANGER RED...|      12|12/1/2010 13:04|     1.65|     12662|Germany|            true|\n",
      "|   536527|    47421|ASSORTED COLOUR L...|      24|12/1/2010 13:04|     0.42|     12662|Germany|            true|\n",
      "|   536527|    20712|JUMBO BAG WOODLAN...|      10|12/1/2010 13:04|     1.95|     12662|Germany|            true|\n",
      "|   536527|    20713|      JUMBO BAG OWLS|      10|12/1/2010 13:04|     1.95|     12662|Germany|            true|\n",
      "|   536527|    22837|HOT WATER BOTTLE ...|       4|12/1/2010 13:04|     4.65|     12662|Germany|            true|\n",
      "+---------+---------+--------------------+--------+---------------+---------+----------+-------+----------------+\n",
      "only showing top 10 rows\n",
      "\n"
     ]
    }
   ],
   "source": [
    "# Purchased items in Germany only ##(Using Where)\n",
    "purchases_items_germany = retail_data_germany.where(col(\"Country\") == \"Germany\").where(col(\"BroughtInGermany\") == \"true\")\n",
    "purchases_items_germany.show(10)"
   ]
  },
  {
   "cell_type": "code",
   "execution_count": 35,
   "metadata": {},
   "outputs": [
    {
     "name": "stdout",
     "output_type": "stream",
     "text": [
      "+---------+---------+--------------------+--------+---------------+---------+----------+-------+----------------+\n",
      "|InvoiceNo|StockCode|         Description|Quantity|    InvoiceDate|UnitPrice|CustomerID|Country|BroughtInGermany|\n",
      "+---------+---------+--------------------+--------+---------------+---------+----------+-------+----------------+\n",
      "|   536527|    22809|SET OF 6 T-LIGHTS...|       6|12/1/2010 13:04|     2.95|     12662|Germany|            true|\n",
      "|   536527|    84347|ROTATING SILVER A...|       6|12/1/2010 13:04|     2.55|     12662|Germany|            true|\n",
      "|   536527|    84945|MULTI COLOUR SILV...|      12|12/1/2010 13:04|     0.85|     12662|Germany|            true|\n",
      "|   536527|    22242|5 HOOK HANGER MAG...|      12|12/1/2010 13:04|     1.65|     12662|Germany|            true|\n",
      "|   536527|    22244|3 HOOK HANGER MAG...|      12|12/1/2010 13:04|     1.95|     12662|Germany|            true|\n",
      "|   536527|    22243|5 HOOK HANGER RED...|      12|12/1/2010 13:04|     1.65|     12662|Germany|            true|\n",
      "|   536527|    47421|ASSORTED COLOUR L...|      24|12/1/2010 13:04|     0.42|     12662|Germany|            true|\n",
      "|   536527|    20712|JUMBO BAG WOODLAN...|      10|12/1/2010 13:04|     1.95|     12662|Germany|            true|\n",
      "|   536527|    20713|      JUMBO BAG OWLS|      10|12/1/2010 13:04|     1.95|     12662|Germany|            true|\n",
      "|   536527|    22837|HOT WATER BOTTLE ...|       4|12/1/2010 13:04|     4.65|     12662|Germany|            true|\n",
      "+---------+---------+--------------------+--------+---------------+---------+----------+-------+----------------+\n",
      "only showing top 10 rows\n",
      "\n"
     ]
    }
   ],
   "source": [
    "# Purchased items in Germany only ##(Using filter)\n",
    "purchased_items_different_way = retail_data_germany.filter( (retail_data_germany.Country == \"Germany\") & (retail_data_germany.BroughtInGermany == \"true\") )\n",
    "purchased_items_different_way.show(10)"
   ]
  },
  {
   "cell_type": "code",
   "execution_count": 40,
   "metadata": {},
   "outputs": [
    {
     "name": "stdout",
     "output_type": "stream",
     "text": [
      "+---------+---------+--------------------+--------+---------------+---------+----------+--------------+------------------+\n",
      "|InvoiceNo|StockCode|         Description|Quantity|    InvoiceDate|UnitPrice|CustomerID|       Country|        total_cost|\n",
      "+---------+---------+--------------------+--------+---------------+---------+----------+--------------+------------------+\n",
      "|   536596|    21624|VINTAGE UNION JAC...|       1|12/1/2010 17:29|     5.95|      null|United Kingdom|             38.09|\n",
      "|   536596|    22900| SET 2 TEA TOWELS...|       1|12/1/2010 17:29|     2.95|      null|United Kingdom|             38.09|\n",
      "|   536596|    22114|HOT WATER BOTTLE ...|       1|12/1/2010 17:29|     3.95|      null|United Kingdom|             38.09|\n",
      "|   536596|    21967|PACK OF 12 SKULL ...|       1|12/1/2010 17:29|     0.29|      null|United Kingdom|             38.09|\n",
      "|   536596|   84926A|WAKE UP COCKEREL ...|       4|12/1/2010 17:29|     1.25|      null|United Kingdom|             38.09|\n",
      "|   536596|    22802|FAUX FUR CHOCOLAT...|       1|12/1/2010 17:29|    19.95|      null|United Kingdom|             38.09|\n",
      "|   536938|    22386|JUMBO BAG PINK PO...|      20|12/3/2010 12:05|     1.95|     14680|United Kingdom|1680.8799999999999|\n",
      "|   536938|   85099C|JUMBO  BAG BAROQU...|      20|12/3/2010 12:05|     1.95|     14680|United Kingdom|1680.8799999999999|\n",
      "|   536938|    21931|JUMBO STORAGE BAG...|      20|12/3/2010 12:05|     1.95|     14680|United Kingdom|1680.8799999999999|\n",
      "|   536938|    20712|JUMBO BAG WOODLAN...|      20|12/3/2010 12:05|     1.95|     14680|United Kingdom|1680.8799999999999|\n",
      "|   536938|    20713|      JUMBO BAG OWLS|      20|12/3/2010 12:05|     1.95|     14680|United Kingdom|1680.8799999999999|\n",
      "|   536938|    20724|RED RETROSPOT CHA...|      20|12/3/2010 12:05|     0.85|     14680|United Kingdom|1680.8799999999999|\n",
      "|   536938|    22356|CHARLOTTE BAG PIN...|      20|12/3/2010 12:05|     0.85|     14680|United Kingdom|1680.8799999999999|\n",
      "|   536938|   84997B|RED 3 PIECE RETRO...|      24|12/3/2010 12:05|     3.75|     14680|United Kingdom|1680.8799999999999|\n",
      "|   536938|   84997A|GREEN 3 PIECE POL...|      24|12/3/2010 12:05|     3.75|     14680|United Kingdom|1680.8799999999999|\n",
      "|   536938|    21479|WHITE SKULL HOT W...|      72|12/3/2010 12:05|     3.39|     14680|United Kingdom|1680.8799999999999|\n",
      "|   536938|    22112|CHOCOLATE HOT WAT...|      72|12/3/2010 12:05|     4.25|     14680|United Kingdom|1680.8799999999999|\n",
      "|   536938|    22837|HOT WATER BOTTLE ...|      36|12/3/2010 12:05|     4.25|     14680|United Kingdom|1680.8799999999999|\n",
      "|   536938|    21258|VICTORIAN SEWING ...|      24|12/3/2010 12:05|    10.95|     14680|United Kingdom|1680.8799999999999|\n",
      "|   536938|    79321|       CHILLI LIGHTS|      72|12/3/2010 12:05|     4.25|     14680|United Kingdom|1680.8799999999999|\n",
      "+---------+---------+--------------------+--------+---------------+---------+----------+--------------+------------------+\n",
      "only showing top 20 rows\n",
      "\n"
     ]
    }
   ],
   "source": [
    "# #Add a column which shows the total amount of corresponding invoice:\n",
    "retail_data.join(all_invoices, [\"InvoiceNo\"]).show()\n"
   ]
  },
  {
   "cell_type": "code",
   "execution_count": 47,
   "metadata": {},
   "outputs": [
    {
     "name": "stdout",
     "output_type": "stream",
     "text": [
      "455\n"
     ]
    }
   ],
   "source": [
    "# #How many German customers spent more than $10?\n",
    "invoices_germany = retail_data.where(col(\"Country\") == \"Germany\").groupBy(col(\"InvoiceNo\")).agg(sum(col(\"UnitPrice\")*col(\"Quantity\")).alias(\"total_cost\")).sort(col(\"total_cost\"))\n",
    "#invoices_germany.show()\n",
    "more_than_10 = invoices_germany.where(col(\"total_cost\") > 10).count()\n",
    "print(more_than_10)"
   ]
  },
  {
   "cell_type": "code",
   "execution_count": 49,
   "metadata": {},
   "outputs": [
    {
     "name": "stdout",
     "output_type": "stream",
     "text": [
      "+---------+----------+------------------+\n",
      "|InvoiceNo|CustomerID|        total_cost|\n",
      "+---------+----------+------------------+\n",
      "|   552978|     12590| 9341.260000000004|\n",
      "|   564856|     12477|4257.0599999999995|\n",
      "|   543737|     12477|2355.9500000000003|\n",
      "|   581179|     12471|2238.5099999999993|\n",
      "|   550137|     12477|           2221.02|\n",
      "|   540458|     12501|2169.3899999999994|\n",
      "|   569640|     12471| 2145.380000000001|\n",
      "|   576910|     12477|2037.6899999999996|\n",
      "|   538174|     12471|1982.4099999999999|\n",
      "|   557466|     13815|1965.7400000000002|\n",
      "|   571065|     12613|           1881.86|\n",
      "|   578472|     12476|           1750.46|\n",
      "|   541965|     12625|           1716.62|\n",
      "|   571328|     12473|           1697.98|\n",
      "|   537201|     12472|1631.3000000000009|\n",
      "|   539395|     12471|1484.2499999999998|\n",
      "|   547822|     12668|            1444.8|\n",
      "|   550527|     12476|1411.6699999999998|\n",
      "|   569844|     12626|1377.5499999999993|\n",
      "|   571824|     12472|1376.4299999999998|\n",
      "+---------+----------+------------------+\n",
      "only showing top 20 rows\n",
      "\n"
     ]
    }
   ],
   "source": [
    "# # Sort the German customers with respect to their total invoice in descending order: \n",
    "german_customers = retail_data.where(col(\"Country\") == \"Germany\").groupBy(col(\"InvoiceNo\"), col(\"CustomerID\")).agg(sum(col(\"UnitPrice\")*col(\"Quantity\")).alias(\"total_cost\")).sort(desc(\"total_cost\"))\n",
    "german_customers.show()"
   ]
  },
  {
   "cell_type": "code",
   "execution_count": 50,
   "metadata": {},
   "outputs": [],
   "source": [
    "spark.stop()"
   ]
  }
 ],
 "metadata": {
  "kernelspec": {
   "display_name": "Python 3",
   "language": "python",
   "name": "python3"
  },
  "language_info": {
   "codemirror_mode": {
    "name": "ipython",
    "version": 3
   },
   "file_extension": ".py",
   "mimetype": "text/x-python",
   "name": "python",
   "nbconvert_exporter": "python",
   "pygments_lexer": "ipython3",
   "version": "3.7.6"
  }
 },
 "nbformat": 4,
 "nbformat_minor": 4
}
